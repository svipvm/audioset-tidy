{
 "cells": [
  {
   "cell_type": "code",
   "execution_count": 5,
   "metadata": {},
   "outputs": [],
   "source": [
    "import h5py, glob, tifffile, os\n",
    "from tqdm import tqdm\n",
    "import numpy as np\n",
    "import pandas as pd\n",
    "\n",
    "import matplotlib.pyplot as plt"
   ]
  },
  {
   "cell_type": "code",
   "execution_count": 2,
   "metadata": {},
   "outputs": [],
   "source": [
    "DATA_DIR = '/media/ubuntu/HD/Data/Audioset-Seg/data_logmel'"
   ]
  },
  {
   "cell_type": "code",
   "execution_count": 20,
   "metadata": {},
   "outputs": [
    {
     "name": "stderr",
     "output_type": "stream",
     "text": [
      "100%|██████████| 436/436 [00:41<00:00, 10.49it/s]"
     ]
    },
    {
     "name": "stdout",
     "output_type": "stream",
     "text": [
      "(261792, 2)\n"
     ]
    },
    {
     "name": "stderr",
     "output_type": "stream",
     "text": [
      "\n"
     ]
    },
    {
     "data": {
      "text/html": [
       "<div>\n",
       "<style scoped>\n",
       "    .dataframe tbody tr th:only-of-type {\n",
       "        vertical-align: middle;\n",
       "    }\n",
       "\n",
       "    .dataframe tbody tr th {\n",
       "        vertical-align: top;\n",
       "    }\n",
       "\n",
       "    .dataframe thead th {\n",
       "        text-align: right;\n",
       "    }\n",
       "</style>\n",
       "<table border=\"1\" class=\"dataframe\">\n",
       "  <thead>\n",
       "    <tr style=\"text-align: right;\">\n",
       "      <th></th>\n",
       "      <th>id</th>\n",
       "      <th>class</th>\n",
       "    </tr>\n",
       "  </thead>\n",
       "  <tbody>\n",
       "    <tr>\n",
       "      <th>0</th>\n",
       "      <td>9kMTqmnH0h8</td>\n",
       "      <td>Sizzle</td>\n",
       "    </tr>\n",
       "    <tr>\n",
       "      <th>1</th>\n",
       "      <td>j95VSxb0kSw</td>\n",
       "      <td>Sizzle</td>\n",
       "    </tr>\n",
       "    <tr>\n",
       "      <th>2</th>\n",
       "      <td>MAi4nKCWsh4</td>\n",
       "      <td>Sizzle</td>\n",
       "    </tr>\n",
       "    <tr>\n",
       "      <th>3</th>\n",
       "      <td>Qga_GEfMRNc</td>\n",
       "      <td>Sizzle</td>\n",
       "    </tr>\n",
       "    <tr>\n",
       "      <th>4</th>\n",
       "      <td>1CPfFe_5hyQ</td>\n",
       "      <td>Sizzle</td>\n",
       "    </tr>\n",
       "  </tbody>\n",
       "</table>\n",
       "</div>"
      ],
      "text/plain": [
       "            id   class\n",
       "0  9kMTqmnH0h8  Sizzle\n",
       "1  j95VSxb0kSw  Sizzle\n",
       "2  MAi4nKCWsh4  Sizzle\n",
       "3  Qga_GEfMRNc  Sizzle\n",
       "4  1CPfFe_5hyQ  Sizzle"
      ]
     },
     "execution_count": 20,
     "metadata": {},
     "output_type": "execute_result"
    }
   ],
   "source": [
    "data_dirs = glob.glob(f'{DATA_DIR}/*')\n",
    "\n",
    "metadata = {\"id\": [], \"class\": []}\n",
    "\n",
    "for data_dir in tqdm(data_dirs):\n",
    "    tiff_files = glob.glob(f'{data_dir}/*.tiff')\n",
    "    tiff_ids = []\n",
    "    for tiff_file in tiff_files:\n",
    "        class_name = tiff_file.split('/')[-2]\n",
    "        tiff_id = '_'.join(tiff_file.split('/')[-1].split('_')[:-1])\n",
    "        if tiff_id not in tiff_ids:\n",
    "            tiff_ids.append(tiff_id)\n",
    "            metadata['id'].append(tiff_id)\n",
    "            metadata['class'].append(class_name)\n",
    "        # print(class_name, tiff_id)\n",
    "    # break\n",
    "\n",
    "metadata = pd.DataFrame(metadata)\n",
    "print(metadata.shape)\n",
    "metadata.head(5)"
   ]
  },
  {
   "cell_type": "code",
   "execution_count": 28,
   "metadata": {},
   "outputs": [
    {
     "name": "stderr",
     "output_type": "stream",
     "text": [
      "  0%|          | 0/436 [00:00<?, ?it/s]"
     ]
    },
    {
     "name": "stderr",
     "output_type": "stream",
     "text": [
      "100%|██████████| 436/436 [00:05<00:00, 73.44it/s]"
     ]
    },
    {
     "name": "stdout",
     "output_type": "stream",
     "text": [
      "(261572, 2)\n"
     ]
    },
    {
     "name": "stderr",
     "output_type": "stream",
     "text": [
      "\n"
     ]
    },
    {
     "data": {
      "text/html": [
       "<div>\n",
       "<style scoped>\n",
       "    .dataframe tbody tr th:only-of-type {\n",
       "        vertical-align: middle;\n",
       "    }\n",
       "\n",
       "    .dataframe tbody tr th {\n",
       "        vertical-align: top;\n",
       "    }\n",
       "\n",
       "    .dataframe thead th {\n",
       "        text-align: right;\n",
       "    }\n",
       "</style>\n",
       "<table border=\"1\" class=\"dataframe\">\n",
       "  <thead>\n",
       "    <tr style=\"text-align: right;\">\n",
       "      <th></th>\n",
       "      <th>id</th>\n",
       "      <th>class</th>\n",
       "    </tr>\n",
       "  </thead>\n",
       "  <tbody>\n",
       "    <tr>\n",
       "      <th>0</th>\n",
       "      <td>9kMTqmnH0h8</td>\n",
       "      <td>Sizzle</td>\n",
       "    </tr>\n",
       "    <tr>\n",
       "      <th>1</th>\n",
       "      <td>j95VSxb0kSw</td>\n",
       "      <td>Sizzle</td>\n",
       "    </tr>\n",
       "    <tr>\n",
       "      <th>2</th>\n",
       "      <td>MAi4nKCWsh4</td>\n",
       "      <td>Sizzle</td>\n",
       "    </tr>\n",
       "    <tr>\n",
       "      <th>3</th>\n",
       "      <td>Qga_GEfMRNc</td>\n",
       "      <td>Sizzle</td>\n",
       "    </tr>\n",
       "    <tr>\n",
       "      <th>4</th>\n",
       "      <td>1CPfFe_5hyQ</td>\n",
       "      <td>Sizzle</td>\n",
       "    </tr>\n",
       "  </tbody>\n",
       "</table>\n",
       "</div>"
      ],
      "text/plain": [
       "            id   class\n",
       "0  9kMTqmnH0h8  Sizzle\n",
       "1  j95VSxb0kSw  Sizzle\n",
       "2  MAi4nKCWsh4  Sizzle\n",
       "3  Qga_GEfMRNc  Sizzle\n",
       "4  1CPfFe_5hyQ  Sizzle"
      ]
     },
     "execution_count": 28,
     "metadata": {},
     "output_type": "execute_result"
    }
   ],
   "source": [
    "valid_class = []\n",
    "\n",
    "for class_name in tqdm(metadata['class'].unique()):\n",
    "    temp_data = metadata[metadata['class'] == class_name]\n",
    "    if temp_data.shape[0] < 10: continue\n",
    "    valid_class.append(class_name)\n",
    "\n",
    "valid_metadata = metadata[metadata['class'].isin(valid_class)]\n",
    "\n",
    "print(valid_metadata.shape)\n",
    "valid_metadata.head(5)"
   ]
  },
  {
   "cell_type": "code",
   "execution_count": 29,
   "metadata": {},
   "outputs": [
    {
     "name": "stdout",
     "output_type": "stream",
     "text": [
      "(261572, 3)\n"
     ]
    },
    {
     "name": "stderr",
     "output_type": "stream",
     "text": [
      "/tmp/ipykernel_32216/1232165936.py:2: SettingWithCopyWarning: \n",
      "A value is trying to be set on a copy of a slice from a DataFrame.\n",
      "Try using .loc[row_indexer,col_indexer] = value instead\n",
      "\n",
      "See the caveats in the documentation: https://pandas.pydata.org/pandas-docs/stable/user_guide/indexing.html#returning-a-view-versus-a-copy\n",
      "  valid_metadata['fold'] = [x % kfold for x in range(valid_metadata.shape[0])]\n"
     ]
    },
    {
     "data": {
      "text/html": [
       "<div>\n",
       "<style scoped>\n",
       "    .dataframe tbody tr th:only-of-type {\n",
       "        vertical-align: middle;\n",
       "    }\n",
       "\n",
       "    .dataframe tbody tr th {\n",
       "        vertical-align: top;\n",
       "    }\n",
       "\n",
       "    .dataframe thead th {\n",
       "        text-align: right;\n",
       "    }\n",
       "</style>\n",
       "<table border=\"1\" class=\"dataframe\">\n",
       "  <thead>\n",
       "    <tr style=\"text-align: right;\">\n",
       "      <th></th>\n",
       "      <th>id</th>\n",
       "      <th>class</th>\n",
       "      <th>fold</th>\n",
       "    </tr>\n",
       "  </thead>\n",
       "  <tbody>\n",
       "    <tr>\n",
       "      <th>0</th>\n",
       "      <td>9kMTqmnH0h8</td>\n",
       "      <td>Sizzle</td>\n",
       "      <td>0</td>\n",
       "    </tr>\n",
       "    <tr>\n",
       "      <th>1</th>\n",
       "      <td>j95VSxb0kSw</td>\n",
       "      <td>Sizzle</td>\n",
       "      <td>1</td>\n",
       "    </tr>\n",
       "    <tr>\n",
       "      <th>2</th>\n",
       "      <td>MAi4nKCWsh4</td>\n",
       "      <td>Sizzle</td>\n",
       "      <td>2</td>\n",
       "    </tr>\n",
       "    <tr>\n",
       "      <th>3</th>\n",
       "      <td>Qga_GEfMRNc</td>\n",
       "      <td>Sizzle</td>\n",
       "      <td>3</td>\n",
       "    </tr>\n",
       "    <tr>\n",
       "      <th>4</th>\n",
       "      <td>1CPfFe_5hyQ</td>\n",
       "      <td>Sizzle</td>\n",
       "      <td>4</td>\n",
       "    </tr>\n",
       "  </tbody>\n",
       "</table>\n",
       "</div>"
      ],
      "text/plain": [
       "            id   class  fold\n",
       "0  9kMTqmnH0h8  Sizzle     0\n",
       "1  j95VSxb0kSw  Sizzle     1\n",
       "2  MAi4nKCWsh4  Sizzle     2\n",
       "3  Qga_GEfMRNc  Sizzle     3\n",
       "4  1CPfFe_5hyQ  Sizzle     4"
      ]
     },
     "execution_count": 29,
     "metadata": {},
     "output_type": "execute_result"
    }
   ],
   "source": [
    "kfold = 10\n",
    "valid_metadata['fold'] = [x % kfold for x in range(valid_metadata.shape[0])]\n",
    "\n",
    "print(valid_metadata.shape)\n",
    "valid_metadata.head(5)"
   ]
  },
  {
   "cell_type": "code",
   "execution_count": 30,
   "metadata": {},
   "outputs": [],
   "source": [
    "valid_metadata.to_csv('./metadata/tiff_metadata.csv', index=False)"
   ]
  },
  {
   "cell_type": "code",
   "execution_count": null,
   "metadata": {},
   "outputs": [],
   "source": []
  },
  {
   "cell_type": "code",
   "execution_count": 22,
   "metadata": {},
   "outputs": [
    {
     "ename": "AttributeError",
     "evalue": "'str' object has no attribute 'value_counts'",
     "output_type": "error",
     "traceback": [
      "\u001b[0;31m---------------------------------------------------------------------------\u001b[0m",
      "\u001b[0;31mAttributeError\u001b[0m                            Traceback (most recent call last)",
      "\u001b[1;32m/home/whq/projects/with-dog-audio/audioset-tidy/process_hdf5.ipynb 单元格 4\u001b[0m line \u001b[0;36m1\n\u001b[0;32m----> <a href='vscode-notebook-cell://ssh-remote%2B7b22686f73744e616d65223a2258706563742d475055227d/home/whq/projects/with-dog-audio/audioset-tidy/process_hdf5.ipynb#X12sdnNjb2RlLXJlbW90ZQ%3D%3D?line=0'>1</a>\u001b[0m class_counts \u001b[39m=\u001b[39m metadata[\u001b[39m'\u001b[39;49m\u001b[39mclass\u001b[39;49m\u001b[39m'\u001b[39;49m]\u001b[39m.\u001b[39;49mapply(\u001b[39mlambda\u001b[39;49;00m x: x\u001b[39m.\u001b[39;49mvalue_counts()\u001b[39m.\u001b[39;49mcount())\n\u001b[1;32m      <a href='vscode-notebook-cell://ssh-remote%2B7b22686f73744e616d65223a2258706563742d475055227d/home/whq/projects/with-dog-audio/audioset-tidy/process_hdf5.ipynb#X12sdnNjb2RlLXJlbW90ZQ%3D%3D?line=1'>2</a>\u001b[0m \u001b[39mprint\u001b[39m(class_counts)\n",
      "File \u001b[0;32m~/.conda/envs/pytorch_whq/lib/python3.10/site-packages/pandas/core/series.py:4630\u001b[0m, in \u001b[0;36mSeries.apply\u001b[0;34m(self, func, convert_dtype, args, **kwargs)\u001b[0m\n\u001b[1;32m   4520\u001b[0m \u001b[39mdef\u001b[39;00m \u001b[39mapply\u001b[39m(\n\u001b[1;32m   4521\u001b[0m     \u001b[39mself\u001b[39m,\n\u001b[1;32m   4522\u001b[0m     func: AggFuncType,\n\u001b[0;32m   (...)\u001b[0m\n\u001b[1;32m   4525\u001b[0m     \u001b[39m*\u001b[39m\u001b[39m*\u001b[39mkwargs,\n\u001b[1;32m   4526\u001b[0m ) \u001b[39m-\u001b[39m\u001b[39m>\u001b[39m DataFrame \u001b[39m|\u001b[39m Series:\n\u001b[1;32m   4527\u001b[0m \u001b[39m    \u001b[39m\u001b[39m\"\"\"\u001b[39;00m\n\u001b[1;32m   4528\u001b[0m \u001b[39m    Invoke function on values of Series.\u001b[39;00m\n\u001b[1;32m   4529\u001b[0m \n\u001b[0;32m   (...)\u001b[0m\n\u001b[1;32m   4628\u001b[0m \u001b[39m    dtype: float64\u001b[39;00m\n\u001b[1;32m   4629\u001b[0m \u001b[39m    \"\"\"\u001b[39;00m\n\u001b[0;32m-> 4630\u001b[0m     \u001b[39mreturn\u001b[39;00m SeriesApply(\u001b[39mself\u001b[39;49m, func, convert_dtype, args, kwargs)\u001b[39m.\u001b[39;49mapply()\n",
      "File \u001b[0;32m~/.conda/envs/pytorch_whq/lib/python3.10/site-packages/pandas/core/apply.py:1025\u001b[0m, in \u001b[0;36mSeriesApply.apply\u001b[0;34m(self)\u001b[0m\n\u001b[1;32m   1022\u001b[0m     \u001b[39mreturn\u001b[39;00m \u001b[39mself\u001b[39m\u001b[39m.\u001b[39mapply_str()\n\u001b[1;32m   1024\u001b[0m \u001b[39m# self.f is Callable\u001b[39;00m\n\u001b[0;32m-> 1025\u001b[0m \u001b[39mreturn\u001b[39;00m \u001b[39mself\u001b[39;49m\u001b[39m.\u001b[39;49mapply_standard()\n",
      "File \u001b[0;32m~/.conda/envs/pytorch_whq/lib/python3.10/site-packages/pandas/core/apply.py:1076\u001b[0m, in \u001b[0;36mSeriesApply.apply_standard\u001b[0;34m(self)\u001b[0m\n\u001b[1;32m   1074\u001b[0m     \u001b[39melse\u001b[39;00m:\n\u001b[1;32m   1075\u001b[0m         values \u001b[39m=\u001b[39m obj\u001b[39m.\u001b[39mastype(\u001b[39mobject\u001b[39m)\u001b[39m.\u001b[39m_values\n\u001b[0;32m-> 1076\u001b[0m         mapped \u001b[39m=\u001b[39m lib\u001b[39m.\u001b[39;49mmap_infer(\n\u001b[1;32m   1077\u001b[0m             values,\n\u001b[1;32m   1078\u001b[0m             f,\n\u001b[1;32m   1079\u001b[0m             convert\u001b[39m=\u001b[39;49m\u001b[39mself\u001b[39;49m\u001b[39m.\u001b[39;49mconvert_dtype,\n\u001b[1;32m   1080\u001b[0m         )\n\u001b[1;32m   1082\u001b[0m \u001b[39mif\u001b[39;00m \u001b[39mlen\u001b[39m(mapped) \u001b[39mand\u001b[39;00m \u001b[39misinstance\u001b[39m(mapped[\u001b[39m0\u001b[39m], ABCSeries):\n\u001b[1;32m   1083\u001b[0m     \u001b[39m# GH#43986 Need to do list(mapped) in order to get treated as nested\u001b[39;00m\n\u001b[1;32m   1084\u001b[0m     \u001b[39m#  See also GH#25959 regarding EA support\u001b[39;00m\n\u001b[1;32m   1085\u001b[0m     \u001b[39mreturn\u001b[39;00m obj\u001b[39m.\u001b[39m_constructor_expanddim(\u001b[39mlist\u001b[39m(mapped), index\u001b[39m=\u001b[39mobj\u001b[39m.\u001b[39mindex)\n",
      "File \u001b[0;32m~/.conda/envs/pytorch_whq/lib/python3.10/site-packages/pandas/_libs/lib.pyx:2834\u001b[0m, in \u001b[0;36mpandas._libs.lib.map_infer\u001b[0;34m()\u001b[0m\n",
      "\u001b[1;32m/home/whq/projects/with-dog-audio/audioset-tidy/process_hdf5.ipynb 单元格 4\u001b[0m line \u001b[0;36m1\n\u001b[0;32m----> <a href='vscode-notebook-cell://ssh-remote%2B7b22686f73744e616d65223a2258706563742d475055227d/home/whq/projects/with-dog-audio/audioset-tidy/process_hdf5.ipynb#X12sdnNjb2RlLXJlbW90ZQ%3D%3D?line=0'>1</a>\u001b[0m class_counts \u001b[39m=\u001b[39m metadata[\u001b[39m'\u001b[39m\u001b[39mclass\u001b[39m\u001b[39m'\u001b[39m]\u001b[39m.\u001b[39mapply(\u001b[39mlambda\u001b[39;00m x: x\u001b[39m.\u001b[39;49mvalue_counts()\u001b[39m.\u001b[39mcount())\n\u001b[1;32m      <a href='vscode-notebook-cell://ssh-remote%2B7b22686f73744e616d65223a2258706563742d475055227d/home/whq/projects/with-dog-audio/audioset-tidy/process_hdf5.ipynb#X12sdnNjb2RlLXJlbW90ZQ%3D%3D?line=1'>2</a>\u001b[0m \u001b[39mprint\u001b[39m(class_counts)\n",
      "\u001b[0;31mAttributeError\u001b[0m: 'str' object has no attribute 'value_counts'"
     ]
    }
   ],
   "source": [
    "class_counts = metadata['class'].apply(lambda x: x.value_counts().count())\n",
    "print(class_counts)"
   ]
  },
  {
   "cell_type": "code",
   "execution_count": null,
   "metadata": {},
   "outputs": [],
   "source": []
  },
  {
   "cell_type": "code",
   "execution_count": 3,
   "metadata": {},
   "outputs": [
    {
     "data": {
      "text/plain": [
       "512"
      ]
     },
     "execution_count": 3,
     "metadata": {},
     "output_type": "execute_result"
    }
   ],
   "source": [
    "tiff_files = glob.glob(f'{DATA_DIR}/Bark/*')[:512]\n",
    "len(tiff_files)"
   ]
  },
  {
   "cell_type": "code",
   "execution_count": 4,
   "metadata": {},
   "outputs": [],
   "source": [
    "output_file = \"images.h5\"  # 输出的H5文件名\n",
    "\n",
    "with h5py.File(output_file, \"w\") as h5_file:\n",
    "    # 创建一个数据集来存储图像数据\n",
    "    image_dataset = h5_file.create_dataset(\"logmels\", (len(tiff_files), 65, 64), \n",
    "                                           dtype=np.float16)\n",
    "    label_dataset = h5_file.create_dataset(\"labels\", (len(tiff_files), ), \n",
    "                                           dtype=np.int32)\n",
    "\n",
    "    # 遍历图像文件并将它们写入H5文件\n",
    "    for i, image_file in enumerate(tiff_files):\n",
    "        image_data = tifffile.imread(image_file)\n",
    "        h, w = image_data.shape\n",
    "        image_dataset[i] = image_data.astype(np.float16)\n",
    "        label_dataset[i] = i"
   ]
  },
  {
   "cell_type": "code",
   "execution_count": 8,
   "metadata": {},
   "outputs": [
    {
     "name": "stdout",
     "output_type": "stream",
     "text": [
      "H5文件中的数据集名称: ['labels', 'logmels']\n",
      "(512, 65, 64)\n",
      "(512,)\n"
     ]
    }
   ],
   "source": [
    "# 打印保存的H5文件信息\n",
    "with h5py.File(output_file, \"r\") as h5_file:\n",
    "    print(\"H5文件中的数据集名称:\", list(h5_file.keys()))\n",
    "    print(h5_file[\"logmels\"].shape)\n",
    "    print(h5_file[\"labels\"].shape)"
   ]
  },
  {
   "cell_type": "code",
   "execution_count": 4,
   "metadata": {},
   "outputs": [
    {
     "name": "stdout",
     "output_type": "stream",
     "text": [
      "H5文件中的数据集名称: ['datasets', 'labels']\n",
      "2\n",
      "1024\n",
      "(1024,)\n",
      "[322 182 135  63 291 192  85 156 154 154 366 341 198 198  85 291 198 291\n",
      " 322  30 308 198 256  26 135 310 168 154  36  41 182  71]\n"
     ]
    }
   ],
   "source": [
    "output_file = '/media/ubuntu/HD/Data/Audioset-Seg/data_logmel_hdf5/fold0/data_0_1024.h5'\n",
    "with h5py.File(output_file, \"r\") as h5_file:\n",
    "    print(\"H5文件中的数据集名称:\", list(h5_file.keys()))\n",
    "    print(len(h5_file))\n",
    "    print(h5_file[\"datasets\"].shape[0])\n",
    "    print(h5_file[\"labels\"].shape)\n",
    "    print(h5_file[\"labels\"][:32])"
   ]
  },
  {
   "cell_type": "code",
   "execution_count": 6,
   "metadata": {},
   "outputs": [
    {
     "name": "stdout",
     "output_type": "stream",
     "text": [
      "H5文件中的数据集名称: ['audio_name', 'logmel', 'target']\n",
      "(37,)\n",
      "b'Yb0RFKhbpFJA_0.wav'\n",
      "(37, 201, 64)\n",
      "(37,)\n",
      "[ 52 239 441]\n"
     ]
    }
   ],
   "source": [
    "output_file = '/media/ubuntu/ssd2t/AIGroup/Audio-Data/audioset_strong/logmel/train_data.h5'\n",
    "data = None\n",
    "with h5py.File(output_file, \"r\") as h5_file:\n",
    "    print(\"H5文件中的数据集名称:\", list(h5_file.keys()))\n",
    "    print(h5_file[\"audio_name\"].shape)\n",
    "    print(h5_file[\"audio_name\"][0])\n",
    "    print(h5_file[\"logmel\"].shape)\n",
    "    data = h5_file[\"logmel\"][0]\n",
    "    print(h5_file[\"target\"].shape)\n",
    "    print(h5_file[\"target\"][0])"
   ]
  },
  {
   "cell_type": "code",
   "execution_count": 8,
   "metadata": {},
   "outputs": [
    {
     "data": {
      "image/png": "[encoded data removed]",
      "text/plain": [
       "<Figure size 1000x400 with 1 Axes>"
      ]
     },
     "metadata": {},
     "output_type": "display_data"
    }
   ],
   "source": [
    "plt.figure(figsize=(10, 4))\n",
    "plt.imshow(np.flipud(np.transpose(data)), \n",
    "    cmap=plt.cm.jet, \n",
    "    aspect='auto',\n",
    "    extent=[0, data.shape[0], 0, data.shape[1]])\n",
    "plt.show()"
   ]
  }
 ],
 "metadata": {
  "kernelspec": {
   "display_name": "pytorch_whq",
   "language": "python",
   "name": "python3"
  },
  "language_info": {
   "codemirror_mode": {
    "name": "ipython",
    "version": 3
   },
   "file_extension": ".py",
   "mimetype": "text/x-python",
   "name": "python",
   "nbconvert_exporter": "python",
   "pygments_lexer": "ipython3",
   "version": "3.10.12"
  },
  "orig_nbformat": 4
 },
 "nbformat": 4,
 "nbformat_minor": 2
}
