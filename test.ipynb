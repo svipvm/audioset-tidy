{
 "cells": [
  {
   "cell_type": "code",
   "execution_count": 2,
   "metadata": {},
   "outputs": [],
   "source": [
    "import pandas as pd\n",
    "import numpy as np\n",
    "import glob, os, librosa, soundfile, json, h5py, logging\n",
    "\n",
    "import librosa.display\n",
    "from multiprocessing import Pool\n",
    "\n",
    "from utils.util_process import *"
   ]
  },
  {
   "cell_type": "code",
   "execution_count": 6,
   "metadata": {},
   "outputs": [
    {
     "name": "stdout",
     "output_type": "stream",
     "text": [
      "H5文件中的数据集名称: ['audio_name', 'hdf5_path', 'index_in_hdf5', 'target']\n",
      "356230\n",
      "b'Yb0RFKhbpFJA_0.wav'\n",
      "b'/media/ubuntu/ssd2t/AIGroup/Audio-Data/audioset_strong/audioset_logmel/train_data.h5'\n",
      "0\n",
      "[ 52 239 441]\n"
     ]
    }
   ],
   "source": [
    "output_file = '/media/ubuntu/ssd2t/AIGroup/Audio-Data/audioset_strong/audioset_logmel/train_index.h5'\n",
    "with h5py.File(output_file, \"r\") as h5_file:\n",
    "    print(\"H5文件中的数据集名称:\", list(h5_file.keys()))\n",
    "    print(len(h5_file['audio_name']))\n",
    "    print(h5_file['audio_name'][0])\n",
    "    print(h5_file['hdf5_path'][0])\n",
    "    print(h5_file['index_in_hdf5'][0])\n",
    "    print(h5_file['target'][0])"
   ]
  },
  {
   "cell_type": "code",
   "execution_count": 5,
   "metadata": {},
   "outputs": [
    {
     "name": "stdout",
     "output_type": "stream",
     "text": [
      "H5文件中的数据集名称: ['audio_name', 'hdf5_path', 'index_in_hdf5', 'target']\n",
      "61426\n",
      "b'Ys9d-2nhuJCQ_0.wav'\n",
      "b'/media/ubuntu/ssd2t/AIGroup/Audio-Data/audioset_strong/audioset_logmel/eval_data.h5'\n",
      "0\n",
      "[ 74 114 254]\n"
     ]
    }
   ],
   "source": [
    "output_file = '/media/ubuntu/ssd2t/AIGroup/Audio-Data/audioset_strong/audioset_logmel/eval_index.h5'\n",
    "with h5py.File(output_file, \"r\") as h5_file:\n",
    "    print(\"H5文件中的数据集名称:\", list(h5_file.keys()))\n",
    "    print(len(h5_file['audio_name']))\n",
    "    print(h5_file['audio_name'][0])\n",
    "    print(h5_file['hdf5_path'][0])\n",
    "    print(h5_file['index_in_hdf5'][0])\n",
    "    print(h5_file['target'][0])"
   ]
  },
  {
   "cell_type": "code",
   "execution_count": 7,
   "metadata": {},
   "outputs": [
    {
     "name": "stdout",
     "output_type": "stream",
     "text": [
      "H5文件中的数据集名称: ['audio_name', 'hdf5_path', 'index_in_hdf5', 'target']\n",
      "1412\n",
      "b'100652-3-0-0_0.wav'\n",
      "b'/media/ubuntu/ssd2t/AIGroup/Audio-Data/audioset_strong/urbansound8k_logmel/train_data.h5'\n",
      "0\n",
      "[20]\n"
     ]
    }
   ],
   "source": [
    "output_file = '/media/ubuntu/ssd2t/AIGroup/Audio-Data/audioset_strong/urbansound8k_logmel/train_index.h5'\n",
    "with h5py.File(output_file, \"r\") as h5_file:\n",
    "    print(\"H5文件中的数据集名称:\", list(h5_file.keys()))\n",
    "    print(len(h5_file['audio_name']))\n",
    "    print(h5_file['audio_name'][0])\n",
    "    print(h5_file['hdf5_path'][0])\n",
    "    print(h5_file['index_in_hdf5'][0])\n",
    "    print(h5_file['target'][0])"
   ]
  },
  {
   "cell_type": "code",
   "execution_count": 8,
   "metadata": {},
   "outputs": [
    {
     "name": "stdout",
     "output_type": "stream",
     "text": [
      "H5文件中的数据集名称: ['audio_name', 'hdf5_path', 'index_in_hdf5', 'target']\n",
      "153\n",
      "b'100795-3-0-0_0.wav'\n",
      "b'/media/ubuntu/ssd2t/AIGroup/Audio-Data/audioset_strong/urbansound8k_logmel/eval_data.h5'\n",
      "0\n",
      "[20]\n"
     ]
    }
   ],
   "source": [
    "output_file = '/media/ubuntu/ssd2t/AIGroup/Audio-Data/audioset_strong/urbansound8k_logmel/eval_index.h5'\n",
    "with h5py.File(output_file, \"r\") as h5_file:\n",
    "    print(\"H5文件中的数据集名称:\", list(h5_file.keys()))\n",
    "    print(len(h5_file['audio_name']))\n",
    "    print(h5_file['audio_name'][0])\n",
    "    print(h5_file['hdf5_path'][0])\n",
    "    print(h5_file['index_in_hdf5'][0])\n",
    "    print(h5_file['target'][0])"
   ]
  },
  {
   "cell_type": "code",
   "execution_count": 4,
   "metadata": {},
   "outputs": [
    {
     "name": "stdout",
     "output_type": "stream",
     "text": [
      "H5文件中的数据集名称: ['audio_name', 'hdf5_path', 'index_in_hdf5', 'target']\n",
      "357642\n",
      "b'Yb0RFKhbpFJA_0.wav'\n",
      "b'/media/ubuntu/ssd2t/AIGroup/Audio-Data/audioset_strong/audioset_logmel/train_data.h5'\n",
      "0\n",
      "[ 52 239 441]\n"
     ]
    }
   ],
   "source": [
    "output_file = '/media/ubuntu/ssd2t/AIGroup/Audio-Data/audioset_strong/hdf5s/train_index.h5'\n",
    "with h5py.File(output_file, \"r\") as h5_file:\n",
    "    print(\"H5文件中的数据集名称:\", list(h5_file.keys()))\n",
    "    print(len(h5_file['audio_name']))\n",
    "    print(h5_file['audio_name'][0])\n",
    "    print(h5_file['hdf5_path'][0])\n",
    "    print(h5_file['index_in_hdf5'][0])\n",
    "    print(h5_file['target'][0])"
   ]
  },
  {
   "cell_type": "code",
   "execution_count": 9,
   "metadata": {},
   "outputs": [
    {
     "name": "stdout",
     "output_type": "stream",
     "text": [
      "H5文件中的数据集名称: ['audio_name', 'hdf5_path', 'index_in_hdf5', 'target']\n",
      "61579\n",
      "b'Ys9d-2nhuJCQ_0.wav'\n",
      "b'/media/ubuntu/ssd2t/AIGroup/Audio-Data/audioset_strong/audioset_logmel/eval_data.h5'\n",
      "0\n",
      "[ 74 114 254]\n"
     ]
    }
   ],
   "source": [
    "output_file = '/media/ubuntu/ssd2t/AIGroup/Audio-Data/audioset_strong/hdf5s/eval_index.h5'\n",
    "with h5py.File(output_file, \"r\") as h5_file:\n",
    "    print(\"H5文件中的数据集名称:\", list(h5_file.keys()))\n",
    "    print(len(h5_file['audio_name']))\n",
    "    print(h5_file['audio_name'][0])\n",
    "    print(h5_file['hdf5_path'][0])\n",
    "    print(h5_file['index_in_hdf5'][0])\n",
    "    print(h5_file['target'][0])"
   ]
  }
 ],
 "metadata": {
  "kernelspec": {
   "display_name": "pytorch_whq",
   "language": "python",
   "name": "python3"
  },
  "language_info": {
   "codemirror_mode": {
    "name": "ipython",
    "version": 3
   },
   "file_extension": ".py",
   "mimetype": "text/x-python",
   "name": "python",
   "nbconvert_exporter": "python",
   "pygments_lexer": "ipython3",
   "version": "3.10.12"
  }
 },
 "nbformat": 4,
 "nbformat_minor": 2
}
