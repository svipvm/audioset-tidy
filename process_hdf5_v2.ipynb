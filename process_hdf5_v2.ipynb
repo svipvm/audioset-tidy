{
 "cells": [
  {
   "cell_type": "code",
   "execution_count": 1,
   "metadata": {},
   "outputs": [],
   "source": [
    "import h5py, glob, tifffile, os, random\n",
    "from tqdm import tqdm\n",
    "import numpy as np\n",
    "import pandas as pd"
   ]
  },
  {
   "cell_type": "code",
   "execution_count": 2,
   "metadata": {},
   "outputs": [],
   "source": [
    "DATA_DIR = '/media/ubuntu/HD/Data/Audioset-Seg/data_cut_logmel'\n",
    "META_FILE = '/media/ubuntu/HD/Data/Audioset-Seg/metadata/train_strong_2s.csv'"
   ]
  },
  {
   "cell_type": "code",
   "execution_count": 3,
   "metadata": {},
   "outputs": [
    {
     "name": "stdout",
     "output_type": "stream",
     "text": [
      "(470086, 5)\n"
     ]
    },
    {
     "data": {
      "text/html": [
       "<div>\n",
       "<style scoped>\n",
       "    .dataframe tbody tr th:only-of-type {\n",
       "        vertical-align: middle;\n",
       "    }\n",
       "\n",
       "    .dataframe tbody tr th {\n",
       "        vertical-align: top;\n",
       "    }\n",
       "\n",
       "    .dataframe thead th {\n",
       "        text-align: right;\n",
       "    }\n",
       "</style>\n",
       "<table border=\"1\" class=\"dataframe\">\n",
       "  <thead>\n",
       "    <tr style=\"text-align: right;\">\n",
       "      <th></th>\n",
       "      <th>segments</th>\n",
       "      <th>wav_id</th>\n",
       "      <th>start_time</th>\n",
       "      <th>end_time</th>\n",
       "      <th>classes</th>\n",
       "    </tr>\n",
       "  </thead>\n",
       "  <tbody>\n",
       "    <tr>\n",
       "      <th>0</th>\n",
       "      <td>part32</td>\n",
       "      <td>jj-39Vkt8jo_0</td>\n",
       "      <td>0.0</td>\n",
       "      <td>2.0</td>\n",
       "      <td>[78, 103, 243, 316]</td>\n",
       "    </tr>\n",
       "    <tr>\n",
       "      <th>1</th>\n",
       "      <td>part32</td>\n",
       "      <td>jj-39Vkt8jo_1</td>\n",
       "      <td>2.0</td>\n",
       "      <td>4.0</td>\n",
       "      <td>[78, 103, 178, 212, 243, 337, 377]</td>\n",
       "    </tr>\n",
       "    <tr>\n",
       "      <th>2</th>\n",
       "      <td>part32</td>\n",
       "      <td>jj-39Vkt8jo_2</td>\n",
       "      <td>4.0</td>\n",
       "      <td>6.0</td>\n",
       "      <td>[178, 212, 243, 337, 377]</td>\n",
       "    </tr>\n",
       "    <tr>\n",
       "      <th>3</th>\n",
       "      <td>part32</td>\n",
       "      <td>jj-39Vkt8jo_3</td>\n",
       "      <td>6.0</td>\n",
       "      <td>8.0</td>\n",
       "      <td>[178, 212, 243, 377]</td>\n",
       "    </tr>\n",
       "    <tr>\n",
       "      <th>4</th>\n",
       "      <td>part32</td>\n",
       "      <td>jj-39Vkt8jo_4</td>\n",
       "      <td>8.0</td>\n",
       "      <td>10.0</td>\n",
       "      <td>[178, 243, 353]</td>\n",
       "    </tr>\n",
       "  </tbody>\n",
       "</table>\n",
       "</div>"
      ],
      "text/plain": [
       "  segments         wav_id  start_time  end_time  \\\n",
       "0   part32  jj-39Vkt8jo_0         0.0       2.0   \n",
       "1   part32  jj-39Vkt8jo_1         2.0       4.0   \n",
       "2   part32  jj-39Vkt8jo_2         4.0       6.0   \n",
       "3   part32  jj-39Vkt8jo_3         6.0       8.0   \n",
       "4   part32  jj-39Vkt8jo_4         8.0      10.0   \n",
       "\n",
       "                              classes  \n",
       "0                 [78, 103, 243, 316]  \n",
       "1  [78, 103, 178, 212, 243, 337, 377]  \n",
       "2           [178, 212, 243, 337, 377]  \n",
       "3                [178, 212, 243, 377]  \n",
       "4                     [178, 243, 353]  "
      ]
     },
     "execution_count": 3,
     "metadata": {},
     "output_type": "execute_result"
    }
   ],
   "source": [
    "metadata = pd.read_csv(META_FILE)\n",
    "print(metadata.shape)\n",
    "metadata.head()"
   ]
  },
  {
   "cell_type": "code",
   "execution_count": 4,
   "metadata": {},
   "outputs": [
    {
     "name": "stdout",
     "output_type": "stream",
     "text": [
      "95930 ['jj-39Vkt8jo' 'jTLxRcopOCM' 'jTbNcMezsZw' 'ija4BoG60-c']\n"
     ]
    }
   ],
   "source": [
    "metadata['wav_id_'] = metadata['wav_id'].apply(lambda x: '_'.join(x.split('_')[:-1]))\n",
    "wav_ids = metadata['wav_id_'].unique()\n",
    "print(len(wav_ids), wav_ids[:4])"
   ]
  },
  {
   "cell_type": "code",
   "execution_count": 5,
   "metadata": {},
   "outputs": [],
   "source": [
    "# wav_feature = {\"wav_id\": [], \"wav_feature\": []}\n",
    "\n",
    "# for wav_id in wav_ids:\n",
    "#     temp_data = metadata[metadata['wav_id_'] == wav_id].copy()\n",
    "#     feature = []\n",
    "#     for classes in temp_data['classes'].tolist():\n",
    "#         feature += eval(classes)\n",
    "#     feature = np.unique(np.array(feature)).tolist()\n",
    "#     feature = '-'.join([str(x) for x in feature])\n",
    "#     # break\n",
    "#     wav_feature['wav_id'].append(wav_id)\n",
    "#     wav_feature['wav_feature'].append(feature)\n",
    "\n",
    "# wav_feature = pd.DataFrame(wav_feature)\n",
    "# print(wav_feature.shape)\n",
    "# wav_feature.head()"
   ]
  },
  {
   "cell_type": "code",
   "execution_count": 6,
   "metadata": {},
   "outputs": [
    {
     "name": "stdout",
     "output_type": "stream",
     "text": [
      "95930 ['lCrFasUkKMY' '6MFdiV_8wIM' 'F3jA74HhBnE' 'izYM7k5w6t4']\n"
     ]
    }
   ],
   "source": [
    "random.seed(42)\n",
    "random.shuffle(wav_ids)\n",
    "print(len(wav_ids), wav_ids[:4])"
   ]
  },
  {
   "cell_type": "code",
   "execution_count": 7,
   "metadata": {},
   "outputs": [
    {
     "name": "stdout",
     "output_type": "stream",
     "text": [
      "(95930, 2)\n"
     ]
    },
    {
     "data": {
      "text/html": [
       "<div>\n",
       "<style scoped>\n",
       "    .dataframe tbody tr th:only-of-type {\n",
       "        vertical-align: middle;\n",
       "    }\n",
       "\n",
       "    .dataframe tbody tr th {\n",
       "        vertical-align: top;\n",
       "    }\n",
       "\n",
       "    .dataframe thead th {\n",
       "        text-align: right;\n",
       "    }\n",
       "</style>\n",
       "<table border=\"1\" class=\"dataframe\">\n",
       "  <thead>\n",
       "    <tr style=\"text-align: right;\">\n",
       "      <th></th>\n",
       "      <th>wav_id_</th>\n",
       "      <th>kfold</th>\n",
       "    </tr>\n",
       "  </thead>\n",
       "  <tbody>\n",
       "    <tr>\n",
       "      <th>0</th>\n",
       "      <td>lCrFasUkKMY</td>\n",
       "      <td>0</td>\n",
       "    </tr>\n",
       "    <tr>\n",
       "      <th>1</th>\n",
       "      <td>6MFdiV_8wIM</td>\n",
       "      <td>1</td>\n",
       "    </tr>\n",
       "    <tr>\n",
       "      <th>2</th>\n",
       "      <td>F3jA74HhBnE</td>\n",
       "      <td>2</td>\n",
       "    </tr>\n",
       "    <tr>\n",
       "      <th>3</th>\n",
       "      <td>izYM7k5w6t4</td>\n",
       "      <td>3</td>\n",
       "    </tr>\n",
       "    <tr>\n",
       "      <th>4</th>\n",
       "      <td>zagWLobkTm0</td>\n",
       "      <td>4</td>\n",
       "    </tr>\n",
       "  </tbody>\n",
       "</table>\n",
       "</div>"
      ],
      "text/plain": [
       "       wav_id_  kfold\n",
       "0  lCrFasUkKMY      0\n",
       "1  6MFdiV_8wIM      1\n",
       "2  F3jA74HhBnE      2\n",
       "3  izYM7k5w6t4      3\n",
       "4  zagWLobkTm0      4"
      ]
     },
     "execution_count": 7,
     "metadata": {},
     "output_type": "execute_result"
    }
   ],
   "source": [
    "meta_kfold = {\"wav_id_\": wav_ids, \"kfold\": []}\n",
    "\n",
    "kfold = 10\n",
    "meta_kfold['kfold'] = [x % kfold for x in range(len(wav_ids))]\n",
    "\n",
    "meta_kfold = pd.DataFrame(meta_kfold)\n",
    "# meta_kfold.to_csv(f\"{os.path.dirname(META_FILE)}/cross_valid_.csv\", index=False)\n",
    "\n",
    "print(meta_kfold.shape)\n",
    "meta_kfold.head()"
   ]
  },
  {
   "cell_type": "code",
   "execution_count": 8,
   "metadata": {},
   "outputs": [
    {
     "name": "stdout",
     "output_type": "stream",
     "text": [
      "(470086, 6)\n"
     ]
    },
    {
     "data": {
      "text/html": [
       "<div>\n",
       "<style scoped>\n",
       "    .dataframe tbody tr th:only-of-type {\n",
       "        vertical-align: middle;\n",
       "    }\n",
       "\n",
       "    .dataframe tbody tr th {\n",
       "        vertical-align: top;\n",
       "    }\n",
       "\n",
       "    .dataframe thead th {\n",
       "        text-align: right;\n",
       "    }\n",
       "</style>\n",
       "<table border=\"1\" class=\"dataframe\">\n",
       "  <thead>\n",
       "    <tr style=\"text-align: right;\">\n",
       "      <th></th>\n",
       "      <th>segments</th>\n",
       "      <th>wav_id</th>\n",
       "      <th>start_time</th>\n",
       "      <th>end_time</th>\n",
       "      <th>classes</th>\n",
       "      <th>kfold</th>\n",
       "    </tr>\n",
       "  </thead>\n",
       "  <tbody>\n",
       "    <tr>\n",
       "      <th>0</th>\n",
       "      <td>part32</td>\n",
       "      <td>jj-39Vkt8jo_0</td>\n",
       "      <td>0.0</td>\n",
       "      <td>2.0</td>\n",
       "      <td>[78, 103, 243, 316]</td>\n",
       "      <td>2</td>\n",
       "    </tr>\n",
       "    <tr>\n",
       "      <th>1</th>\n",
       "      <td>part32</td>\n",
       "      <td>jj-39Vkt8jo_1</td>\n",
       "      <td>2.0</td>\n",
       "      <td>4.0</td>\n",
       "      <td>[78, 103, 178, 212, 243, 337, 377]</td>\n",
       "      <td>2</td>\n",
       "    </tr>\n",
       "    <tr>\n",
       "      <th>2</th>\n",
       "      <td>part32</td>\n",
       "      <td>jj-39Vkt8jo_2</td>\n",
       "      <td>4.0</td>\n",
       "      <td>6.0</td>\n",
       "      <td>[178, 212, 243, 337, 377]</td>\n",
       "      <td>2</td>\n",
       "    </tr>\n",
       "    <tr>\n",
       "      <th>3</th>\n",
       "      <td>part32</td>\n",
       "      <td>jj-39Vkt8jo_3</td>\n",
       "      <td>6.0</td>\n",
       "      <td>8.0</td>\n",
       "      <td>[178, 212, 243, 377]</td>\n",
       "      <td>2</td>\n",
       "    </tr>\n",
       "    <tr>\n",
       "      <th>4</th>\n",
       "      <td>part32</td>\n",
       "      <td>jj-39Vkt8jo_4</td>\n",
       "      <td>8.0</td>\n",
       "      <td>10.0</td>\n",
       "      <td>[178, 243, 353]</td>\n",
       "      <td>2</td>\n",
       "    </tr>\n",
       "  </tbody>\n",
       "</table>\n",
       "</div>"
      ],
      "text/plain": [
       "  segments         wav_id  start_time  end_time  \\\n",
       "0   part32  jj-39Vkt8jo_0         0.0       2.0   \n",
       "1   part32  jj-39Vkt8jo_1         2.0       4.0   \n",
       "2   part32  jj-39Vkt8jo_2         4.0       6.0   \n",
       "3   part32  jj-39Vkt8jo_3         6.0       8.0   \n",
       "4   part32  jj-39Vkt8jo_4         8.0      10.0   \n",
       "\n",
       "                              classes  kfold  \n",
       "0                 [78, 103, 243, 316]      2  \n",
       "1  [78, 103, 178, 212, 243, 337, 377]      2  \n",
       "2           [178, 212, 243, 337, 377]      2  \n",
       "3                [178, 212, 243, 377]      2  \n",
       "4                     [178, 243, 353]      2  "
      ]
     },
     "execution_count": 8,
     "metadata": {},
     "output_type": "execute_result"
    }
   ],
   "source": [
    "metadata = pd.merge(metadata, meta_kfold, on='wav_id_')\n",
    "metadata.drop('wav_id_', axis=1, inplace=True)\n",
    "\n",
    "print(metadata.shape)\n",
    "metadata.head()"
   ]
  },
  {
   "cell_type": "code",
   "execution_count": 9,
   "metadata": {},
   "outputs": [],
   "source": [
    "metadata.to_csv(f\"{os.path.dirname(META_FILE)}/cross_valid.csv\", index=False)"
   ]
  },
  {
   "cell_type": "code",
   "execution_count": 15,
   "metadata": {},
   "outputs": [
    {
     "name": "stdout",
     "output_type": "stream",
     "text": [
      "H5文件中的数据集名称: ['datasets', 'labels']\n",
      "46999\n",
      "(46999,)\n",
      "[array([178, 413], dtype=int32) array([18], dtype=int32)\n",
      " array([ 18, 124, 377], dtype=int32) array([239, 254], dtype=int32)\n",
      " array([275, 415], dtype=int32) array([ 32, 239], dtype=int32)\n",
      " array([239, 254], dtype=int32)\n",
      " array([ 93, 114, 239, 243, 254], dtype=int32)\n",
      " array([ 78, 103, 254, 422], dtype=int32)\n",
      " array([ 46, 157, 200, 243], dtype=int32)\n",
      " array([ 36, 239, 443], dtype=int32) array([ 18, 254, 387], dtype=int32)\n",
      " array([243], dtype=int32) array([ 46, 242], dtype=int32)\n",
      " array([ 18,  46, 178, 230], dtype=int32)\n",
      " array([103, 114, 239, 380], dtype=int32)]\n",
      "<class 'numpy.ndarray'>\n"
     ]
    }
   ],
   "source": [
    "output_file = '/media/ubuntu/HD/Data/Audioset-Seg/data_cut_logmel_2.0s_hdf5/fold0_data_pack.h5'\n",
    "with h5py.File(output_file, \"r\") as h5_file:\n",
    "    print(\"H5文件中的数据集名称:\", list(h5_file.keys()))\n",
    "    print(h5_file[\"datasets\"].shape[0])\n",
    "    print(h5_file[\"labels\"].shape)\n",
    "    print(h5_file[\"labels\"][:16])\n",
    "    print(type(h5_file[\"labels\"][0]))"
   ]
  },
  {
   "cell_type": "code",
   "execution_count": 13,
   "metadata": {},
   "outputs": [
    {
     "name": "stdout",
     "output_type": "stream",
     "text": [
      "['f_51', 'f_14', 'f_21', 'f_36', 'f_4', 'f_31', 'f_28', 'f_70', 'f_57', 'f_38']\n"
     ]
    },
    {
     "data": {
      "text/html": [
       "<div>\n",
       "<style scoped>\n",
       "    .dataframe tbody tr th:only-of-type {\n",
       "        vertical-align: middle;\n",
       "    }\n",
       "\n",
       "    .dataframe tbody tr th {\n",
       "        vertical-align: top;\n",
       "    }\n",
       "\n",
       "    .dataframe thead th {\n",
       "        text-align: right;\n",
       "    }\n",
       "</style>\n",
       "<table border=\"1\" class=\"dataframe\">\n",
       "  <thead>\n",
       "    <tr style=\"text-align: right;\">\n",
       "      <th></th>\n",
       "      <th>id</th>\n",
       "      <th>file</th>\n",
       "      <th>h5_index</th>\n",
       "    </tr>\n",
       "  </thead>\n",
       "  <tbody>\n",
       "    <tr>\n",
       "      <th>51</th>\n",
       "      <td>51</td>\n",
       "      <td>f_51</td>\n",
       "      <td>0</td>\n",
       "    </tr>\n",
       "    <tr>\n",
       "      <th>14</th>\n",
       "      <td>14</td>\n",
       "      <td>f_14</td>\n",
       "      <td>1</td>\n",
       "    </tr>\n",
       "    <tr>\n",
       "      <th>21</th>\n",
       "      <td>21</td>\n",
       "      <td>f_21</td>\n",
       "      <td>2</td>\n",
       "    </tr>\n",
       "    <tr>\n",
       "      <th>36</th>\n",
       "      <td>36</td>\n",
       "      <td>f_36</td>\n",
       "      <td>3</td>\n",
       "    </tr>\n",
       "    <tr>\n",
       "      <th>4</th>\n",
       "      <td>4</td>\n",
       "      <td>f_4</td>\n",
       "      <td>4</td>\n",
       "    </tr>\n",
       "    <tr>\n",
       "      <th>31</th>\n",
       "      <td>31</td>\n",
       "      <td>f_31</td>\n",
       "      <td>5</td>\n",
       "    </tr>\n",
       "    <tr>\n",
       "      <th>28</th>\n",
       "      <td>28</td>\n",
       "      <td>f_28</td>\n",
       "      <td>6</td>\n",
       "    </tr>\n",
       "    <tr>\n",
       "      <th>70</th>\n",
       "      <td>70</td>\n",
       "      <td>f_70</td>\n",
       "      <td>7</td>\n",
       "    </tr>\n",
       "    <tr>\n",
       "      <th>57</th>\n",
       "      <td>57</td>\n",
       "      <td>f_57</td>\n",
       "      <td>8</td>\n",
       "    </tr>\n",
       "    <tr>\n",
       "      <th>38</th>\n",
       "      <td>38</td>\n",
       "      <td>f_38</td>\n",
       "      <td>9</td>\n",
       "    </tr>\n",
       "  </tbody>\n",
       "</table>\n",
       "</div>"
      ],
      "text/plain": [
       "    id  file  h5_index\n",
       "51  51  f_51         0\n",
       "14  14  f_14         1\n",
       "21  21  f_21         2\n",
       "36  36  f_36         3\n",
       "4    4   f_4         4\n",
       "31  31  f_31         5\n",
       "28  28  f_28         6\n",
       "70  70  f_70         7\n",
       "57  57  f_57         8\n",
       "38  38  f_38         9"
      ]
     },
     "execution_count": 13,
     "metadata": {},
     "output_type": "execute_result"
    }
   ],
   "source": [
    "temp_data = {\n",
    "    \"id\": list(range(100)),\n",
    "    'file': [f'f_{i}' for i in list(range(100))],\n",
    "    'h5_index': [-1] * 100\n",
    "}\n",
    "temp_data = pd.DataFrame(temp_data)\n",
    "\n",
    "shuffle_index = np.random.permutation(temp_data.shape[0])\n",
    "tiff_files = [temp_data['file'].tolist()[i] for i in shuffle_index]\n",
    "temp_data.loc[temp_data.index[shuffle_index], 'h5_index'] = list(range(temp_data.shape[0]))\n",
    "\n",
    "print(tiff_files[:10])\n",
    "temp_data = temp_data.sort_values('h5_index')\n",
    "temp_data.head(10)"
   ]
  }
 ],
 "metadata": {
  "kernelspec": {
   "display_name": "pytorch_whq",
   "language": "python",
   "name": "python3"
  },
  "language_info": {
   "codemirror_mode": {
    "name": "ipython",
    "version": 3
   },
   "file_extension": ".py",
   "mimetype": "text/x-python",
   "name": "python",
   "nbconvert_exporter": "python",
   "pygments_lexer": "ipython3",
   "version": "3.10.12"
  }
 },
 "nbformat": 4,
 "nbformat_minor": 2
}
