{
 "cells": [
  {
   "cell_type": "code",
   "execution_count": 1,
   "metadata": {},
   "outputs": [],
   "source": [
    "import pandas as pd\n",
    "import numpy as np\n",
    "import glob, os, librosa, soundfile \n",
    "\n",
    "import librosa.display\n",
    "\n",
    "import matplotlib.pyplot as plt\n",
    "from IPython.display import Audio"
   ]
  },
  {
   "cell_type": "code",
   "execution_count": 2,
   "metadata": {},
   "outputs": [],
   "source": [
    "params = {\n",
    "    'train_strong': './metadata/strong/audioset_train_strong.tsv',\n",
    "    'eval_strong': './metadata/strong/audioset_eval_strong.tsv',\n",
    "    'label_tsv': './metadata/strong/mid_to_display_name.tsv'\n",
    "}"
   ]
  },
  {
   "cell_type": "code",
   "execution_count": 3,
   "metadata": {},
   "outputs": [
    {
     "name": "stdout",
     "output_type": "stream",
     "text": [
      "(456, 2)\n"
     ]
    },
    {
     "data": {
      "text/html": [
       "<div>\n",
       "<style scoped>\n",
       "    .dataframe tbody tr th:only-of-type {\n",
       "        vertical-align: middle;\n",
       "    }\n",
       "\n",
       "    .dataframe tbody tr th {\n",
       "        vertical-align: top;\n",
       "    }\n",
       "\n",
       "    .dataframe thead th {\n",
       "        text-align: right;\n",
       "    }\n",
       "</style>\n",
       "<table border=\"1\" class=\"dataframe\">\n",
       "  <thead>\n",
       "    <tr style=\"text-align: right;\">\n",
       "      <th></th>\n",
       "      <th>label</th>\n",
       "      <th>class</th>\n",
       "    </tr>\n",
       "  </thead>\n",
       "  <tbody>\n",
       "    <tr>\n",
       "      <th>0</th>\n",
       "      <td>/g/11b630rrvh</td>\n",
       "      <td>Kettle-whistle</td>\n",
       "    </tr>\n",
       "  </tbody>\n",
       "</table>\n",
       "</div>"
      ],
      "text/plain": [
       "           label           class\n",
       "0  /g/11b630rrvh  Kettle-whistle"
      ]
     },
     "execution_count": 3,
     "metadata": {},
     "output_type": "execute_result"
    }
   ],
   "source": [
    "label_data = pd.read_csv(params['label_tsv'], delimiter='\\t', header=None)\n",
    "label_data.rename({0: 'label', 1: 'class'}, axis=1, inplace=True)\n",
    "label_data['class'] = label_data['class'].apply(lambda x: x.replace(' ', '-'))\n",
    "print(label_data.shape)\n",
    "label_data.head(1)"
   ]
  },
  {
   "cell_type": "code",
   "execution_count": 4,
   "metadata": {},
   "outputs": [
    {
     "name": "stdout",
     "output_type": "stream",
     "text": [
      "(934821, 5)\n"
     ]
    },
    {
     "data": {
      "text/html": [
       "<div>\n",
       "<style scoped>\n",
       "    .dataframe tbody tr th:only-of-type {\n",
       "        vertical-align: middle;\n",
       "    }\n",
       "\n",
       "    .dataframe tbody tr th {\n",
       "        vertical-align: top;\n",
       "    }\n",
       "\n",
       "    .dataframe thead th {\n",
       "        text-align: right;\n",
       "    }\n",
       "</style>\n",
       "<table border=\"1\" class=\"dataframe\">\n",
       "  <thead>\n",
       "    <tr style=\"text-align: right;\">\n",
       "      <th></th>\n",
       "      <th>segment_id</th>\n",
       "      <th>start_time_seconds</th>\n",
       "      <th>end_time_seconds</th>\n",
       "      <th>label</th>\n",
       "      <th>class</th>\n",
       "    </tr>\n",
       "  </thead>\n",
       "  <tbody>\n",
       "    <tr>\n",
       "      <th>0</th>\n",
       "      <td>b0RFKhbpFJA</td>\n",
       "      <td>0.0</td>\n",
       "      <td>10.000</td>\n",
       "      <td>/m/03m9d0z</td>\n",
       "      <td>Wind</td>\n",
       "    </tr>\n",
       "    <tr>\n",
       "      <th>1</th>\n",
       "      <td>ZvAdd4Jb1xA</td>\n",
       "      <td>0.0</td>\n",
       "      <td>10.000</td>\n",
       "      <td>/m/03m9d0z</td>\n",
       "      <td>Wind</td>\n",
       "    </tr>\n",
       "    <tr>\n",
       "      <th>2</th>\n",
       "      <td>sWdJR9dInhw</td>\n",
       "      <td>0.0</td>\n",
       "      <td>9.803</td>\n",
       "      <td>/m/03m9d0z</td>\n",
       "      <td>Wind</td>\n",
       "    </tr>\n",
       "  </tbody>\n",
       "</table>\n",
       "</div>"
      ],
      "text/plain": [
       "    segment_id  start_time_seconds  end_time_seconds       label class\n",
       "0  b0RFKhbpFJA                 0.0            10.000  /m/03m9d0z  Wind\n",
       "1  ZvAdd4Jb1xA                 0.0            10.000  /m/03m9d0z  Wind\n",
       "2  sWdJR9dInhw                 0.0             9.803  /m/03m9d0z  Wind"
      ]
     },
     "execution_count": 4,
     "metadata": {},
     "output_type": "execute_result"
    }
   ],
   "source": [
    "train_data = pd.read_csv(params['train_strong'], delimiter='\\t')\n",
    "train_data = pd.merge(train_data, label_data, on='label')\n",
    "train_data['segment_id'] = train_data['segment_id'].apply(lambda x: '_'.join(x.split('_')[:-1]))\n",
    "print(train_data.shape)\n",
    "train_data.head(3)"
   ]
  },
  {
   "cell_type": "code",
   "execution_count": 5,
   "metadata": {},
   "outputs": [
    {
     "data": {
      "text/plain": [
       "103463"
      ]
     },
     "execution_count": 5,
     "metadata": {},
     "output_type": "execute_result"
    }
   ],
   "source": [
    "len(train_data['segment_id'].unique())"
   ]
  },
  {
   "cell_type": "code",
   "execution_count": 5,
   "metadata": {},
   "outputs": [
    {
     "name": "stdout",
     "output_type": "stream",
     "text": [
      "(139538, 5)\n"
     ]
    },
    {
     "data": {
      "text/html": [
       "<div>\n",
       "<style scoped>\n",
       "    .dataframe tbody tr th:only-of-type {\n",
       "        vertical-align: middle;\n",
       "    }\n",
       "\n",
       "    .dataframe tbody tr th {\n",
       "        vertical-align: top;\n",
       "    }\n",
       "\n",
       "    .dataframe thead th {\n",
       "        text-align: right;\n",
       "    }\n",
       "</style>\n",
       "<table border=\"1\" class=\"dataframe\">\n",
       "  <thead>\n",
       "    <tr style=\"text-align: right;\">\n",
       "      <th></th>\n",
       "      <th>segment_id</th>\n",
       "      <th>start_time_seconds</th>\n",
       "      <th>end_time_seconds</th>\n",
       "      <th>label</th>\n",
       "      <th>class</th>\n",
       "    </tr>\n",
       "  </thead>\n",
       "  <tbody>\n",
       "    <tr>\n",
       "      <th>0</th>\n",
       "      <td>s9d-2nhuJCQ</td>\n",
       "      <td>0.000</td>\n",
       "      <td>10.000</td>\n",
       "      <td>/m/04rlf</td>\n",
       "      <td>Music</td>\n",
       "    </tr>\n",
       "    <tr>\n",
       "      <th>1</th>\n",
       "      <td>YxlGt805lTA</td>\n",
       "      <td>0.000</td>\n",
       "      <td>9.378</td>\n",
       "      <td>/m/04rlf</td>\n",
       "      <td>Music</td>\n",
       "    </tr>\n",
       "    <tr>\n",
       "      <th>2</th>\n",
       "      <td>-ByoSbgzr4M</td>\n",
       "      <td>0.069</td>\n",
       "      <td>10.000</td>\n",
       "      <td>/m/04rlf</td>\n",
       "      <td>Music</td>\n",
       "    </tr>\n",
       "  </tbody>\n",
       "</table>\n",
       "</div>"
      ],
      "text/plain": [
       "    segment_id  start_time_seconds  end_time_seconds     label  class\n",
       "0  s9d-2nhuJCQ               0.000            10.000  /m/04rlf  Music\n",
       "1  YxlGt805lTA               0.000             9.378  /m/04rlf  Music\n",
       "2  -ByoSbgzr4M               0.069            10.000  /m/04rlf  Music"
      ]
     },
     "execution_count": 5,
     "metadata": {},
     "output_type": "execute_result"
    }
   ],
   "source": [
    "eval_data = pd.read_csv(params['eval_strong'], delimiter='\\t')\n",
    "eval_data = pd.merge(eval_data, label_data, on='label')\n",
    "eval_data['segment_id'] = eval_data['segment_id'].apply(lambda x: '_'.join(x.split('_')[:-1]))\n",
    "print(eval_data.shape)\n",
    "eval_data.head(3)"
   ]
  },
  {
   "cell_type": "code",
   "execution_count": 6,
   "metadata": {},
   "outputs": [],
   "source": [
    "RESAMPLE_RATE = 32000\n",
    "SPLIT_TIME_THR = 3.0"
   ]
  },
  {
   "cell_type": "code",
   "execution_count": 7,
   "metadata": {},
   "outputs": [],
   "source": [
    "def split_segment_data(process_dir, metadata, save_dir):    \n",
    "    wav_files = glob.glob(f'{process_dir}/*.wav')\n",
    "    save_dir = os.path.join(save_dir, 'data')\n",
    "    # print(len(wav_files))\n",
    "\n",
    "    segment_ids = metadata['segment_id'].unique()\n",
    "    for wav_file in wav_files:\n",
    "        wav_id = os.path.splitext(os.path.basename(wav_file))[0][1:]\n",
    "        if wav_id not in segment_ids: continue\n",
    "        print(wav_file)\n",
    "        wav_data, sr = librosa.load(wav_file, mono=False)\n",
    "        wav_data = librosa.resample(wav_data, orig_sr=sr, target_sr=RESAMPLE_RATE)\n",
    "        # plt.figure(figsize=(12, 4))\n",
    "        # librosa.display.waveshow(wav_data, sr=sr)\n",
    "        # plt.show()  \n",
    "\n",
    "        wav_meta = metadata[metadata['segment_id'] == wav_id]\n",
    "        new_wav_id = 0\n",
    "        for _, meta_item in wav_meta.iterrows():\n",
    "            start_time_seconds = meta_item['start_time_seconds']\n",
    "            end_time_seconds = meta_item['end_time_seconds']\n",
    "            seg_class = meta_item['class']\n",
    "            if end_time_seconds - start_time_seconds > SPLIT_TIME_THR:\n",
    "                continue\n",
    "            start_sample_point = int(start_time_seconds * RESAMPLE_RATE)\n",
    "            end_sample_point = int(end_time_seconds * RESAMPLE_RATE)\n",
    "            sub_wav = wav_data[start_sample_point:end_sample_point]\n",
    "            save_wav_file = os.path.join(save_dir, seg_class, f'{wav_id}_{new_wav_id}.wav')\n",
    "            os.makedirs(os.path.dirname(save_wav_file), exist_ok=True)\n",
    "            soundfile.write(save_wav_file, sub_wav, RESAMPLE_RATE)\n",
    "        # print(wav_meta)\n",
    "        break"
   ]
  },
  {
   "cell_type": "code",
   "execution_count": 8,
   "metadata": {},
   "outputs": [
    {
     "name": "stdout",
     "output_type": "stream",
     "text": [
      "./data/audioset/unbalanced_train_segments/unbalanced_train_segments_part32/Yjj-39Vkt8jo.wav\n"
     ]
    }
   ],
   "source": [
    "train_wav_dirs = glob.glob('./data/audioset/unbalanced_train_segments/*')\n",
    "\n",
    "for train_wav_dir in train_wav_dirs:\n",
    "    split_segment_data(train_wav_dir, train_data, '/media/ubuntu/HD/Data/Audioset-Seg')\n",
    "    break"
   ]
  },
  {
   "cell_type": "code",
   "execution_count": 1,
   "metadata": {},
   "outputs": [
    {
     "ename": "NameError",
     "evalue": "name 'librosa' is not defined",
     "output_type": "error",
     "traceback": [
      "\u001b[0;31m---------------------------------------------------------------------------\u001b[0m",
      "\u001b[0;31mNameError\u001b[0m                                 Traceback (most recent call last)",
      "\u001b[1;32m/home/whq/projects/with-dog-audio/audioset-tidy/preprocess.ipynb 单元格 9\u001b[0m line \u001b[0;36m2\n\u001b[1;32m      <a href='vscode-notebook-cell://ssh-remote%2B7b22686f73744e616d65223a2258706563742d475055227d/home/whq/projects/with-dog-audio/audioset-tidy/preprocess.ipynb#X11sdnNjb2RlLXJlbW90ZQ%3D%3D?line=0'>1</a>\u001b[0m wav_file \u001b[39m=\u001b[39m \u001b[39m'\u001b[39m\u001b[39m/media/ubuntu/HD/Data/Audioset-Seg/data/Human-voice/jj-39Vkt8jo_0.wav\u001b[39m\u001b[39m'\u001b[39m\n\u001b[0;32m----> <a href='vscode-notebook-cell://ssh-remote%2B7b22686f73744e616d65223a2258706563742d475055227d/home/whq/projects/with-dog-audio/audioset-tidy/preprocess.ipynb#X11sdnNjb2RlLXJlbW90ZQ%3D%3D?line=1'>2</a>\u001b[0m wav_data, sr \u001b[39m=\u001b[39m librosa\u001b[39m.\u001b[39mload(wav_file, mono\u001b[39m=\u001b[39m\u001b[39mFalse\u001b[39;00m)\n\u001b[1;32m      <a href='vscode-notebook-cell://ssh-remote%2B7b22686f73744e616d65223a2258706563742d475055227d/home/whq/projects/with-dog-audio/audioset-tidy/preprocess.ipynb#X11sdnNjb2RlLXJlbW90ZQ%3D%3D?line=2'>3</a>\u001b[0m plt\u001b[39m.\u001b[39mfigure(figsize\u001b[39m=\u001b[39m(\u001b[39m12\u001b[39m, \u001b[39m4\u001b[39m))\n\u001b[1;32m      <a href='vscode-notebook-cell://ssh-remote%2B7b22686f73744e616d65223a2258706563742d475055227d/home/whq/projects/with-dog-audio/audioset-tidy/preprocess.ipynb#X11sdnNjb2RlLXJlbW90ZQ%3D%3D?line=3'>4</a>\u001b[0m librosa\u001b[39m.\u001b[39mdisplay\u001b[39m.\u001b[39mwaveshow(wav_data, sr\u001b[39m=\u001b[39msr)\n",
      "\u001b[0;31mNameError\u001b[0m: name 'librosa' is not defined"
     ]
    }
   ],
   "source": [
    "wav_file = '/media/ubuntu/HD/Data/Audioset-Seg/data/Human-voice/jj-39Vkt8jo_0.wav'\n",
    "wav_data, sr = librosa.load(wav_file, mono=False)\n",
    "plt.figure(figsize=(12, 4))\n",
    "librosa.display.waveshow(wav_data, sr=sr)\n",
    "plt.show()  "
   ]
  },
  {
   "cell_type": "code",
   "execution_count": null,
   "metadata": {},
   "outputs": [],
   "source": []
  },
  {
   "cell_type": "code",
   "execution_count": null,
   "metadata": {},
   "outputs": [],
   "source": []
  }
 ],
 "metadata": {
  "kernelspec": {
   "display_name": "tensorflow_v2_gpu",
   "language": "python",
   "name": "python3"
  },
  "language_info": {
   "codemirror_mode": {
    "name": "ipython",
    "version": 3
   },
   "file_extension": ".py",
   "mimetype": "text/x-python",
   "name": "python",
   "nbconvert_exporter": "python",
   "pygments_lexer": "ipython3",
   "version": "3.10.12"
  },
  "orig_nbformat": 4
 },
 "nbformat": 4,
 "nbformat_minor": 2
}
