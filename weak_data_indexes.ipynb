{
 "cells": [
  {
   "cell_type": "code",
   "execution_count": 1,
   "metadata": {},
   "outputs": [],
   "source": [
    "import pandas as pd\n",
    "import numpy as np\n",
    "import glob, os, librosa, soundfile, json, h5py, logging\n",
    "\n",
    "import librosa.display\n",
    "from multiprocessing import Pool\n",
    "\n",
    "from utils.util_process import *\n",
    "\n",
    "import matplotlib.pyplot as plt\n",
    "from IPython.display import Audio"
   ]
  },
  {
   "cell_type": "code",
   "execution_count": 2,
   "metadata": {},
   "outputs": [
    {
     "name": "stdout",
     "output_type": "stream",
     "text": [
      "H5文件中的数据集名称: ['audio_name', 'logmel', 'target']\n",
      "audio_name (46837,)\n",
      "b'YAWntdC5KcdA.wav'\n",
      "logmel (46837, 1001, 64)\n",
      "[[-28.403522 -30.479559 -21.148327 ... -63.115448 -63.44309  -63.52129 ]\n",
      " [-24.446318 -26.036314 -19.02189  ... -72.76269  -73.06456  -73.01052 ]\n",
      " [-11.871986 -12.951929 -11.565761 ... -80.24462  -81.42192  -81.91469 ]\n",
      " ...\n",
      " [ -9.241354  -9.1031   -10.928768 ... -65.77278  -69.247154 -70.62378 ]\n",
      " [-13.137552 -13.64614  -17.817688 ... -73.52692  -74.10947  -75.63054 ]\n",
      " [ -9.878008 -13.950685 -23.213717 ... -72.166214 -74.69422  -74.38403 ]]\n",
      "target (46837,)\n",
      "[5 2 0]\n"
     ]
    }
   ],
   "source": [
    "output_file = '/media/ubuntu/ssd2t/AIGroup/Audio-Data/audioset/unbalanced_train/unbalanced_train_segments_part11.h5'\n",
    "with h5py.File(output_file, \"r\") as h5_file:\n",
    "    print(\"H5文件中的数据集名称:\", list(h5_file.keys()))\n",
    "    print('audio_name', h5_file['audio_name'].shape)\n",
    "    print(h5_file[\"audio_name\"][-1])\n",
    "    print('logmel', h5_file['logmel'].shape)\n",
    "    print(h5_file[\"logmel\"][-1])\n",
    "    print('target', h5_file['target'].shape)\n",
    "    print(h5_file[\"target\"][-1])"
   ]
  },
  {
   "cell_type": "code",
   "execution_count": 2,
   "metadata": {},
   "outputs": [
    {
     "name": "stdout",
     "output_type": "stream",
     "text": [
      "H5文件中的数据集名称: ['audio_name', 'hdf5_path', 'index_in_hdf5', 'kfold', 'target']\n",
      "audio_name (1912134,)\n",
      "[b'YD2lDXO_Qxm8.wav' b'YDenqVdOM-Zs.wav' b'YD-2TW_McvsE.wav'\n",
      " b'YDb4B9qu3C6I.wav' b'YDWoYo4ZEReM.wav']\n",
      "hdf5_path (1912134,)\n",
      "[b'unbalanced_train_segments_part13.h5'\n",
      " b'unbalanced_train_segments_part13.h5'\n",
      " b'unbalanced_train_segments_part13.h5'\n",
      " b'unbalanced_train_segments_part13.h5'\n",
      " b'unbalanced_train_segments_part13.h5']\n",
      "index_in_hdf5 (1912134,)\n",
      "[0 1 2 3 4]\n",
      "target (1912134,)\n",
      "[array([408,   0], dtype=int32) array([360,   0], dtype=int32)\n",
      " array([515,   0], dtype=int32) array([0], dtype=int32)\n",
      " array([0], dtype=int32) array([0], dtype=int32)\n",
      " array([137, 270], dtype=int32) array([347], dtype=int32)\n",
      " array([185, 188], dtype=int32) array([0], dtype=int32)]\n",
      "kfold (1912134,)\n",
      "[6 0 1 2 5]\n",
      "0 : 191232\n",
      "1 : 191228\n",
      "2 : 191224\n",
      "3 : 191221\n",
      "4 : 191217\n",
      "5 : 191210\n",
      "6 : 191205\n",
      "7 : 191201\n",
      "8 : 191199\n",
      "9 : 191197\n"
     ]
    }
   ],
   "source": [
    "# output_file = '/media/ubuntu/ssd2t/AIGroup/Audio-Data/audioset/indexes/unbalanced_train_mini.h5'\n",
    "output_file = '/media/ubuntu/ssd2t/AIGroup/Audio-Data/audioset/indexes/unbalanced_train.h5'\n",
    "with h5py.File(output_file, \"r\") as h5_file:\n",
    "    print(\"H5文件中的数据集名称:\", list(h5_file.keys()))\n",
    "    print('audio_name', h5_file[\"audio_name\"].shape)\n",
    "    print(h5_file[\"audio_name\"][:5])\n",
    "    print('hdf5_path', h5_file[\"hdf5_path\"].shape)\n",
    "    print(h5_file[\"hdf5_path\"][:5])\n",
    "    print('index_in_hdf5', h5_file[\"index_in_hdf5\"].shape)\n",
    "    print(h5_file[\"index_in_hdf5\"][:5])\n",
    "    print('target', h5_file[\"target\"].shape)\n",
    "    print(h5_file[\"target\"][:10])\n",
    "    print('kfold', h5_file[\"kfold\"].shape)\n",
    "    print(h5_file[\"kfold\"][:5])\n",
    "    \n",
    "    for i in range(10):\n",
    "        print(i, ':', sum(h5_file[\"kfold\"][:] == i))"
   ]
  },
  {
   "cell_type": "code",
   "execution_count": 3,
   "metadata": {},
   "outputs": [
    {
     "name": "stdout",
     "output_type": "stream",
     "text": [
      "H5文件中的数据集名称: ['audio_name', 'logmel', 'target']\n",
      "audio_name (1234,)\n",
      "[b'YAi9D2-Tf1xQ.wav' b'YAlCJe05xDtE.wav' b'YAjhqPnuqUBA.wav'\n",
      " b'YB0qeLU3z1Q8.wav' b'YAwYLvv6YSuo.wav']\n",
      "logmel (1234, 1001, 64)\n",
      "[[-24.692692 -33.159607 -25.293123 ... -63.749714 -80.83298  -88.37987 ]\n",
      " [-28.62009  -25.131784 -22.639704 ... -66.45151  -86.215355 -88.0531  ]\n",
      " [-21.723978 -24.42577  -25.887566 ... -65.07728  -89.40936  -88.50618 ]\n",
      " ...\n",
      " [-19.664597 -24.890335 -28.182716 ... -71.29067  -86.75225  -87.67377 ]\n",
      " [-25.007627 -32.237576 -27.871927 ... -67.84478  -76.171455 -78.35288 ]\n",
      " [-24.724806 -30.691755 -34.52453  ... -60.461487 -66.433105 -68.792015]]\n",
      "target (1234,)\n",
      "[array([0], dtype=int32) array([0], dtype=int32)\n",
      " array([137, 146], dtype=int32) array([137], dtype=int32)\n",
      " array([431], dtype=int32)]\n"
     ]
    }
   ],
   "source": [
    "output_file = '/media/ubuntu/ssd2t/AIGroup/Audio-Data/audioset/unbalanced_train_mini/unbalanced_train_segments_part11.h5'\n",
    "with h5py.File(output_file, \"r\") as h5_file:\n",
    "    print(\"H5文件中的数据集名称:\", list(h5_file.keys()))\n",
    "    print('audio_name', h5_file['audio_name'].shape)\n",
    "    print(h5_file[\"audio_name\"][:5])\n",
    "    print('logmel', h5_file['logmel'].shape)\n",
    "    print(h5_file[\"logmel\"][1])\n",
    "    print('target', h5_file['target'].shape)\n",
    "    print(h5_file[\"target\"][:5])"
   ]
  }
 ],
 "metadata": {
  "kernelspec": {
   "display_name": "pytorch_whq",
   "language": "python",
   "name": "python3"
  },
  "language_info": {
   "codemirror_mode": {
    "name": "ipython",
    "version": 3
   },
   "file_extension": ".py",
   "mimetype": "text/x-python",
   "name": "python",
   "nbconvert_exporter": "python",
   "pygments_lexer": "ipython3",
   "version": "3.10.12"
  }
 },
 "nbformat": 4,
 "nbformat_minor": 2
}
