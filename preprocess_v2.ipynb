{
 "cells": [
  {
   "cell_type": "code",
   "execution_count": 1,
   "metadata": {},
   "outputs": [],
   "source": [
    "import pandas as pd\n",
    "import numpy as np\n",
    "import glob, os, librosa, soundfile, json\n",
    "\n",
    "import librosa.display\n",
    "from multiprocessing import Pool\n",
    "\n",
    "from utils.util_process_ import *\n",
    "\n",
    "import matplotlib.pyplot as plt\n",
    "from IPython.display import Audio"
   ]
  },
  {
   "cell_type": "code",
   "execution_count": 2,
   "metadata": {},
   "outputs": [],
   "source": [
    "params = {\n",
    "    'train_strong': './metadata/strong/audioset_train_strong.tsv',\n",
    "    'eval_strong': './metadata/strong/audioset_eval_strong.tsv',\n",
    "    'label_tsv': './metadata/strong/mid_to_display_name.tsv'\n",
    "}"
   ]
  },
  {
   "cell_type": "code",
   "execution_count": 3,
   "metadata": {},
   "outputs": [
    {
     "name": "stdout",
     "output_type": "stream",
     "text": [
      "(456, 2)\n"
     ]
    },
    {
     "data": {
      "text/html": [
       "<div>\n",
       "<style scoped>\n",
       "    .dataframe tbody tr th:only-of-type {\n",
       "        vertical-align: middle;\n",
       "    }\n",
       "\n",
       "    .dataframe tbody tr th {\n",
       "        vertical-align: top;\n",
       "    }\n",
       "\n",
       "    .dataframe thead th {\n",
       "        text-align: right;\n",
       "    }\n",
       "</style>\n",
       "<table border=\"1\" class=\"dataframe\">\n",
       "  <thead>\n",
       "    <tr style=\"text-align: right;\">\n",
       "      <th></th>\n",
       "      <th>label</th>\n",
       "      <th>class</th>\n",
       "    </tr>\n",
       "  </thead>\n",
       "  <tbody>\n",
       "    <tr>\n",
       "      <th>0</th>\n",
       "      <td>/g/11b630rrvh</td>\n",
       "      <td>Kettle-whistle</td>\n",
       "    </tr>\n",
       "  </tbody>\n",
       "</table>\n",
       "</div>"
      ],
      "text/plain": [
       "           label           class\n",
       "0  /g/11b630rrvh  Kettle-whistle"
      ]
     },
     "execution_count": 3,
     "metadata": {},
     "output_type": "execute_result"
    }
   ],
   "source": [
    "label_data = pd.read_csv(params['label_tsv'], delimiter='\\t', header=None)\n",
    "label_data.rename({0: 'label', 1: 'class'}, axis=1, inplace=True)\n",
    "label_data['class'] = label_data['class'].apply(lambda x: x.replace(' ', '-'))\n",
    "print(label_data.shape)\n",
    "label_data.head(1)"
   ]
  },
  {
   "cell_type": "code",
   "execution_count": 4,
   "metadata": {},
   "outputs": [],
   "source": [
    "classes = label_data['class'].unique()\n",
    "classes = np.sort(classes)\n",
    "class2label = {class_name: class_label for class_label, class_name in enumerate(classes)}"
   ]
  },
  {
   "cell_type": "code",
   "execution_count": 5,
   "metadata": {},
   "outputs": [
    {
     "name": "stdout",
     "output_type": "stream",
     "text": [
      "(934821, 5)\n"
     ]
    },
    {
     "data": {
      "text/html": [
       "<div>\n",
       "<style scoped>\n",
       "    .dataframe tbody tr th:only-of-type {\n",
       "        vertical-align: middle;\n",
       "    }\n",
       "\n",
       "    .dataframe tbody tr th {\n",
       "        vertical-align: top;\n",
       "    }\n",
       "\n",
       "    .dataframe thead th {\n",
       "        text-align: right;\n",
       "    }\n",
       "</style>\n",
       "<table border=\"1\" class=\"dataframe\">\n",
       "  <thead>\n",
       "    <tr style=\"text-align: right;\">\n",
       "      <th></th>\n",
       "      <th>segment_id</th>\n",
       "      <th>start_time_seconds</th>\n",
       "      <th>end_time_seconds</th>\n",
       "      <th>label</th>\n",
       "      <th>class</th>\n",
       "    </tr>\n",
       "  </thead>\n",
       "  <tbody>\n",
       "    <tr>\n",
       "      <th>0</th>\n",
       "      <td>b0RFKhbpFJA</td>\n",
       "      <td>0.0</td>\n",
       "      <td>10.000</td>\n",
       "      <td>/m/03m9d0z</td>\n",
       "      <td>Wind</td>\n",
       "    </tr>\n",
       "    <tr>\n",
       "      <th>1</th>\n",
       "      <td>ZvAdd4Jb1xA</td>\n",
       "      <td>0.0</td>\n",
       "      <td>10.000</td>\n",
       "      <td>/m/03m9d0z</td>\n",
       "      <td>Wind</td>\n",
       "    </tr>\n",
       "    <tr>\n",
       "      <th>2</th>\n",
       "      <td>sWdJR9dInhw</td>\n",
       "      <td>0.0</td>\n",
       "      <td>9.803</td>\n",
       "      <td>/m/03m9d0z</td>\n",
       "      <td>Wind</td>\n",
       "    </tr>\n",
       "  </tbody>\n",
       "</table>\n",
       "</div>"
      ],
      "text/plain": [
       "    segment_id  start_time_seconds  end_time_seconds       label class\n",
       "0  b0RFKhbpFJA                 0.0            10.000  /m/03m9d0z  Wind\n",
       "1  ZvAdd4Jb1xA                 0.0            10.000  /m/03m9d0z  Wind\n",
       "2  sWdJR9dInhw                 0.0             9.803  /m/03m9d0z  Wind"
      ]
     },
     "execution_count": 5,
     "metadata": {},
     "output_type": "execute_result"
    }
   ],
   "source": [
    "train_data = pd.read_csv(params['train_strong'], delimiter='\\t')\n",
    "train_data = pd.merge(train_data, label_data, on='label')\n",
    "train_data['segment_id'] = train_data['segment_id'].apply(lambda x: '_'.join(x.split('_')[:-1]))\n",
    "print(train_data.shape)\n",
    "train_data.head(3)"
   ]
  },
  {
   "cell_type": "code",
   "execution_count": 6,
   "metadata": {},
   "outputs": [],
   "source": [
    "SPLIT_TIME_LENGTH = 1.0 # second\n",
    "\n",
    "EVAL_MODE = False\n",
    "global_metadata = None\n",
    "\n",
    "DATA_DIR = './data/audioset/audios/eval_segments'\n",
    "SAVE_DIR = '/media/ubuntu/HD/Data/Audioset-Seg'\n",
    "\n",
    "SAVE_LOGMEL_FLAG = False\n",
    "SAVE_WAV_FLAG = False\n",
    "\n",
    "params = {\n",
    "    'resampling_rate': 32000,\n",
    "    'n_fft': 1024,\n",
    "    'hop_length': 320,\n",
    "    'win_length': 1024,\n",
    "    'lower_hertz': 50,\n",
    "    'upper_hertz': 14000,\n",
    "    'mel_bins': 64\n",
    "}"
   ]
  },
  {
   "cell_type": "code",
   "execution_count": 7,
   "metadata": {},
   "outputs": [
    {
     "name": "stdout",
     "output_type": "stream",
     "text": [
      "(0.0123, 2, 'speak'), speak\n",
      "(0.032, 0, 'music'), music\n",
      "(0.1202, 5, 'bark'), bark\n",
      "(0.6502, 4, 'bark'), bark\n",
      "(0.832, 3, 'dog'), dog\n",
      "(1.023, 1, 'dog'), dog\n"
     ]
    }
   ],
   "source": [
    "import heapq\n",
    "\n",
    "class PriorityQueue:\n",
    "    def __init__(self):\n",
    "        self._queue = []\n",
    "        self._index = 0\n",
    "\n",
    "    def push(self, item, priority):\n",
    "        heapq.heappush(self._queue, (priority, self._index, item))\n",
    "        self._index += 1\n",
    "\n",
    "    def pop(self):\n",
    "        return heapq.heappop(self._queue)[-1]\n",
    "    \n",
    "    def top(self):\n",
    "        return self._queue[0]\n",
    "\n",
    "    def is_empty(self):\n",
    "        return len(self._queue) == 0\n",
    "\n",
    "# 创建一个优先队列\n",
    "pq = PriorityQueue()\n",
    "\n",
    "# 添加元素到队列，并指定优先级\n",
    "pq.push(\"music\", 0.032)\n",
    "pq.push(\"dog\", 1.023)\n",
    "pq.push(\"speak\", 0.0123)\n",
    "pq.push(\"dog\", 0.832)\n",
    "pq.push(\"bark\", 0.6502)\n",
    "pq.push(\"bark\", 0.1202)\n",
    "\n",
    "# 从队列中取出元素\n",
    "while not pq.is_empty():\n",
    "    print(pq.top(), end=', ')\n",
    "    item = pq.pop()\n",
    "    print(item)"
   ]
  },
  {
   "cell_type": "code",
   "execution_count": 15,
   "metadata": {},
   "outputs": [],
   "source": [
    "def valid_boundary(end_thre, start_time, end_time):\n",
    "    if end_thre <= start_time: return False\n",
    "    time_length = end_time - start_time\n",
    "    flag1 = ((end_thre - start_time) / time_length) > 0.3\n",
    "    flag2 = (end_thre - start_time) > 0.3\n",
    "    # print(end_thre, start_time, end_time, flag1, flag2, flag1 | flag2)\n",
    "    return flag1 | flag2\n",
    "\n",
    "def get_unique_classes(data, axis):\n",
    "    result = [d[axis] for d in data]\n",
    "    result = np.unique(np.array(result)).tolist()\n",
    "    return [class2label[class_name] for class_name in result]\n",
    "\n",
    "def split_segment_data(wav_file):\n",
    "    global global_metadata\n",
    "    global EVAL_MODE\n",
    "\n",
    "    data_frame = {\"segments\": [], \"wav_id\": [], 'start_time': [],\n",
    "                  'end_time': [], 'classes': []}\n",
    "\n",
    "    if EVAL_MODE: \n",
    "        save_dir = os.path.join(SAVE_DIR, 'data_e_v2')\n",
    "    else:\n",
    "        save_dir = os.path.join(SAVE_DIR, 'data_v2')\n",
    "    os.makedirs(save_dir, exist_ok=True)\n",
    "    segment_ids = global_metadata['segment_id'].unique()\n",
    "\n",
    "    wav_id = os.path.splitext(os.path.basename(wav_file))[0][1:]\n",
    "    if wav_id not in segment_ids: return\n",
    "\n",
    "    try:\n",
    "        wav_data, sr = librosa.load(wav_file, mono=False)\n",
    "        wav_data = librosa.resample(wav_data, orig_sr=sr, target_sr=params['resampling_rate'])\n",
    "\n",
    "        wav_meta = global_metadata[global_metadata['segment_id'] == wav_id].copy()\n",
    "        if wav_meta.shape[0] == 0: return\n",
    "        patient_dir = wav_file.split('/')[-2].split('_')[-1]\n",
    "\n",
    "        # num_sample_point = wav_data.shape[0]\n",
    "\n",
    "        save_png_file = os.path.join(\n",
    "                save_dir, patient_dir, wav_id, f'{wav_id}.tiff')\n",
    "        os.makedirs(os.path.dirname(save_png_file), exist_ok=True)\n",
    "        if SAVE_LOGMEL_FLAG:\n",
    "            melspec = spectrogram(data=wav_data,\n",
    "                                n_fft=params['n_fft'], \n",
    "                                hop_length=params['hop_length'], \n",
    "                                win_length=params['win_length'],\n",
    "                                window='hann',\n",
    "                                center=True,\n",
    "                                pad_mode='reflect')\n",
    "            logmel = logmel_spectrogram(data=melspec,\n",
    "                                        sr=params['resampling_rate'],\n",
    "                                        n_fft=params['n_fft'], \n",
    "                                        n_mels=params['mel_bins'],\n",
    "                                        fmin=params['lower_hertz'],\n",
    "                                        fmax=params['upper_hertz'])\n",
    "            save_tiff(save_png_file, logmel)\n",
    "\n",
    "        pq = PriorityQueue()\n",
    "        wav_meta = wav_meta.sort_values(by='start_time_seconds')\n",
    "        max_time = wav_meta['end_time_seconds'].max()\n",
    "        meta_index, new_wav_id = 0, 0\n",
    "\n",
    "        start_time_list = wav_meta['start_time_seconds'].tolist()\n",
    "        end_time_list = wav_meta['end_time_seconds'].tolist()\n",
    "        class_name_list = wav_meta['class'].tolist()\n",
    "\n",
    "        for start_time in np.arange(0, max_time, SPLIT_TIME_LENGTH):\n",
    "            end_time = start_time + SPLIT_TIME_LENGTH\n",
    "        \n",
    "            # update: delete invalid data\n",
    "            while True:\n",
    "                if pq.is_empty(): break\n",
    "                min_end_time = pq.top()[0]\n",
    "                if min_end_time <= start_time:\n",
    "                    pq.pop()\n",
    "                else:\n",
    "                    break\n",
    "\n",
    "            # update: add valid adata\n",
    "            while True:\n",
    "                if meta_index < len(start_time_list) and valid_boundary(end_time, \n",
    "                    start_time_list[meta_index], end_time_list[meta_index]): \n",
    "                    pq.push(class_name_list[meta_index], end_time_list[meta_index])\n",
    "                    meta_index += 1\n",
    "                else:\n",
    "                    break\n",
    "                \n",
    "            class_name = get_unique_classes(pq._queue, axis=-1)\n",
    "            if len(class_name) == 0: continue\n",
    "\n",
    "            start_sample_point = int(start_time * params['resampling_rate'])\n",
    "            end_sample_point = int(end_time * params['resampling_rate'])\n",
    "            sub_wav = wav_data[start_sample_point:end_sample_point]\n",
    "\n",
    "            num_smaple_point_ = sub_wav.shape[0]\n",
    "            num_block_point_  = SPLIT_TIME_LENGTH * params['resampling_rate']\n",
    "            if num_smaple_point_ < num_block_point_:\n",
    "                sub_wav = np.pad(sub_wav, (0, int(num_block_point_ - num_smaple_point_)))\n",
    "\n",
    "            save_wav_file = os.path.join(\n",
    "                save_dir, patient_dir, wav_id, f'{wav_id}_{new_wav_id}.wav')\n",
    "            # os.makedirs(os.path.dirname(save_wav_file), exist_ok=True)\n",
    "            if SAVE_WAV_FLAG:\n",
    "                soundfile.write(save_wav_file, sub_wav, params['resampling_rate'])\n",
    "\n",
    "            sub_melspec = spectrogram(data=sub_wav,\n",
    "                            n_fft=params['n_fft'], \n",
    "                            hop_length=params['hop_length'], \n",
    "                            win_length=params['win_length'],\n",
    "                            window='hann',\n",
    "                            center=True,\n",
    "                            pad_mode='reflect')\n",
    "            sub_logmel = logmel_spectrogram(data=sub_melspec,\n",
    "                                        sr=params['resampling_rate'],\n",
    "                                        n_fft=params['n_fft'], \n",
    "                                        n_mels=params['mel_bins'],\n",
    "                                        fmin=params['lower_hertz'],\n",
    "                                        fmax=params['upper_hertz'])\n",
    "            save_png_file = os.path.join(\n",
    "                save_dir, patient_dir, wav_id, f'{wav_id}_{new_wav_id}.tiff')\n",
    "            save_tiff(save_png_file, sub_logmel)\n",
    "\n",
    "            data_frame['segments'].append(patient_dir)\n",
    "            data_frame['wav_id'].append(f'{wav_id}_{new_wav_id}')\n",
    "            data_frame['start_time'].append(start_time)\n",
    "            data_frame['end_time'].append(end_time)\n",
    "            data_frame['classes'].append(class_name)\n",
    "            new_wav_id += 1\n",
    "            # print(start_time, end_time, class_name)\n",
    "    except Exception as e:\n",
    "        print(wav_file, e)\n",
    "\n",
    "    return pd.DataFrame(data_frame)"
   ]
  },
  {
   "cell_type": "code",
   "execution_count": 16,
   "metadata": {},
   "outputs": [],
   "source": [
    "global_metadata = train_data.copy()\n",
    "wav_dirs = glob.glob('./data/audioset/audios/unbalanced_train_segments/*')\n",
    "\n",
    "# for wav_dir in wav_dirs:\n",
    "# wav_files = glob.glob(f'{wav_dirs[2]}/*.wav')\n",
    "wav_files = glob.glob('./data/audioset/audios/unbalanced_train_segments/unbalanced_train_segments_part15/*')\n",
    "with Pool(4) as pool:\n",
    "    result_dataframes = pool.map(split_segment_data, wav_files[:1024])"
   ]
  },
  {
   "cell_type": "code",
   "execution_count": 17,
   "metadata": {},
   "outputs": [
    {
     "name": "stdout",
     "output_type": "stream",
     "text": [
      "(415, 5)\n"
     ]
    },
    {
     "data": {
      "text/html": [
       "<div>\n",
       "<style scoped>\n",
       "    .dataframe tbody tr th:only-of-type {\n",
       "        vertical-align: middle;\n",
       "    }\n",
       "\n",
       "    .dataframe tbody tr th {\n",
       "        vertical-align: top;\n",
       "    }\n",
       "\n",
       "    .dataframe thead th {\n",
       "        text-align: right;\n",
       "    }\n",
       "</style>\n",
       "<table border=\"1\" class=\"dataframe\">\n",
       "  <thead>\n",
       "    <tr style=\"text-align: right;\">\n",
       "      <th></th>\n",
       "      <th>segments</th>\n",
       "      <th>wav_id</th>\n",
       "      <th>start_time</th>\n",
       "      <th>end_time</th>\n",
       "      <th>classes</th>\n",
       "    </tr>\n",
       "  </thead>\n",
       "  <tbody>\n",
       "    <tr>\n",
       "      <th>0</th>\n",
       "      <td>part15</td>\n",
       "      <td>Gl00nDatuL0_0</td>\n",
       "      <td>0.0</td>\n",
       "      <td>1.0</td>\n",
       "      <td>[243]</td>\n",
       "    </tr>\n",
       "    <tr>\n",
       "      <th>1</th>\n",
       "      <td>part15</td>\n",
       "      <td>Gl00nDatuL0_1</td>\n",
       "      <td>1.0</td>\n",
       "      <td>2.0</td>\n",
       "      <td>[239, 243]</td>\n",
       "    </tr>\n",
       "    <tr>\n",
       "      <th>2</th>\n",
       "      <td>part15</td>\n",
       "      <td>Gl00nDatuL0_2</td>\n",
       "      <td>2.0</td>\n",
       "      <td>3.0</td>\n",
       "      <td>[239, 243]</td>\n",
       "    </tr>\n",
       "    <tr>\n",
       "      <th>3</th>\n",
       "      <td>part15</td>\n",
       "      <td>Gl00nDatuL0_3</td>\n",
       "      <td>3.0</td>\n",
       "      <td>4.0</td>\n",
       "      <td>[239, 243]</td>\n",
       "    </tr>\n",
       "    <tr>\n",
       "      <th>4</th>\n",
       "      <td>part15</td>\n",
       "      <td>Gl00nDatuL0_4</td>\n",
       "      <td>4.0</td>\n",
       "      <td>5.0</td>\n",
       "      <td>[243]</td>\n",
       "    </tr>\n",
       "  </tbody>\n",
       "</table>\n",
       "</div>"
      ],
      "text/plain": [
       "  segments         wav_id  start_time  end_time     classes\n",
       "0   part15  Gl00nDatuL0_0         0.0       1.0       [243]\n",
       "1   part15  Gl00nDatuL0_1         1.0       2.0  [239, 243]\n",
       "2   part15  Gl00nDatuL0_2         2.0       3.0  [239, 243]\n",
       "3   part15  Gl00nDatuL0_3         3.0       4.0  [239, 243]\n",
       "4   part15  Gl00nDatuL0_4         4.0       5.0       [243]"
      ]
     },
     "execution_count": 17,
     "metadata": {},
     "output_type": "execute_result"
    }
   ],
   "source": [
    "final_dataframe = pd.concat(result_dataframes, ignore_index=True)\n",
    "print(final_dataframe.shape)\n",
    "final_dataframe.head()"
   ]
  },
  {
   "cell_type": "code",
   "execution_count": 18,
   "metadata": {},
   "outputs": [],
   "source": [
    "metadata_file = os.path.join(SAVE_DIR, 'metadata', 'train_strong_v2.csv')\n",
    "os.makedirs(os.path.dirname(metadata_file), exist_ok=True)\n",
    "final_dataframe.to_csv(metadata_file, index=False)\n",
    "\n",
    "class2label_file = os.path.join(SAVE_DIR, 'metadata', 'class2label.json')\n",
    "with open(class2label_file, 'w') as f:\n",
    "    f.write(json.dumps(class2label))"
   ]
  },
  {
   "cell_type": "code",
   "execution_count": 12,
   "metadata": {},
   "outputs": [
    {
     "data": {
      "text/plain": [
       "45"
      ]
     },
     "execution_count": 12,
     "metadata": {},
     "output_type": "execute_result"
    }
   ],
   "source": [
    "len(final_dataframe['wav_id'].apply(lambda x : '_'.join(x.split('_')[:-1])).unique())"
   ]
  },
  {
   "cell_type": "code",
   "execution_count": 13,
   "metadata": {},
   "outputs": [],
   "source": [
    "# global_metadata = train_data.copy()\n",
    "# wav_dirs = glob.glob('./data/audioset/audios/unbalanced_train_segments/*')\n",
    "\n",
    "# wav_files = glob.glob(os.path.join(wav_dirs[2], '*'))\n",
    "# data = split_segment_data(wav_files[0])"
   ]
  },
  {
   "cell_type": "code",
   "execution_count": 14,
   "metadata": {},
   "outputs": [],
   "source": [
    "# data.head(10)"
   ]
  },
  {
   "cell_type": "code",
   "execution_count": null,
   "metadata": {},
   "outputs": [],
   "source": []
  }
 ],
 "metadata": {
  "kernelspec": {
   "display_name": "pytorch_whq",
   "language": "python",
   "name": "python3"
  },
  "language_info": {
   "codemirror_mode": {
    "name": "ipython",
    "version": 3
   },
   "file_extension": ".py",
   "mimetype": "text/x-python",
   "name": "python",
   "nbconvert_exporter": "python",
   "pygments_lexer": "ipython3",
   "version": "3.10.12"
  }
 },
 "nbformat": 4,
 "nbformat_minor": 2
}
